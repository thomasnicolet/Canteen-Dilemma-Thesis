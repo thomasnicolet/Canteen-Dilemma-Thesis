{
 "cells": [
  {
   "cell_type": "code",
   "execution_count": 1,
   "metadata": {},
   "outputs": [
    {
     "data": {
      "text/html": [
       "<script type=\"text/javascript\">window.PlotlyConfig = {MathJaxConfig: 'local'};</script><script type=\"text/javascript\">if (window.MathJax) {MathJax.Hub.Config({SVG: {font: \"STIX-Web\"}});}</script><script>requirejs.config({paths: { 'plotly': ['https://cdn.plot.ly/plotly-latest.min']},});if(!window._Plotly) {require(['plotly'],function(plotly) {window._Plotly=plotly;});}</script>"
      ],
      "text/vnd.plotly.v1+html": [
       "<script type=\"text/javascript\">window.PlotlyConfig = {MathJaxConfig: 'local'};</script><script type=\"text/javascript\">if (window.MathJax) {MathJax.Hub.Config({SVG: {font: \"STIX-Web\"}});}</script><script>requirejs.config({paths: { 'plotly': ['https://cdn.plot.ly/plotly-latest.min']},});if(!window._Plotly) {require(['plotly'],function(plotly) {window._Plotly=plotly;});}</script>"
      ]
     },
     "metadata": {},
     "output_type": "display_data"
    }
   ],
   "source": [
    "from plotly.offline import init_notebook_mode, iplot\n",
    "from IPython.display import display, HTML\n",
    "from plotly.graph_objs import Histogram as H\n",
    "import plotly.plotly as py\n",
    "import pandas as pd\n",
    "import numpy as np\n",
    "init_notebook_mode(connected=True)\n",
    "import plotly.graph_objs as go\n",
    "from datetime import datetime\n",
    "import seaborn as sns\n",
    "from statsmodels.stats.proportion import proportion_confint\n",
    "import numpy as np, scipy.stats as st\n",
    "\n",
    "df1 = pd.read_csv('../Data/amt240_allcd.csv') # amt df\n",
    "df2 = pd.read_csv('../Data/dtu1_allcd.csv') # dtu1 df\n",
    "df3 = pd.read_csv('../Data/dtu2_allcd.csv') # dtu2 df"
   ]
  },
  {
   "cell_type": "code",
   "execution_count": 4,
   "metadata": {},
   "outputs": [
    {
     "name": "stderr",
     "output_type": "stream",
     "text": [
      "C:\\Users\\Thomas\\Miniconda3\\envs\\py37viz\\lib\\site-packages\\IPython\\core\\display.py:689: UserWarning:\n",
      "\n",
      "Consider using IPython.display.IFrame instead\n",
      "\n"
     ]
    },
    {
     "data": {
      "text/html": [
       "<iframe id=\"igraph\" scrolling=\"no\" style=\"border:none;\" seamless=\"seamless\" src=\"https://plot.ly/~thomasnicolet/447.embed\" height=\"525px\" width=\"100%\"></iframe>"
      ],
      "text/plain": [
       "<plotly.tools.PlotlyDisplay object>"
      ]
     },
     "execution_count": 4,
     "metadata": {},
     "output_type": "execute_result"
    }
   ],
   "source": [
    "#plot_6 DTU\n",
    "#run to make barchart of \"simple common knowledge\" answers\n",
    "# changing strat answers dtu1, yes, no, changed certainty only, misc.\n",
    "dtu1_changing_strat = [45, 29, 4]\n",
    "\n",
    "#dtu2 changing strat\n",
    "dtu2_changing_strat = [20, 14, 5]\n",
    "\n",
    "dtu1_changingstrat_total = 78\n",
    "dtu1_changestrat_percent = []\n",
    "for i in dtu1_changing_strat: \n",
    "    dtu1_changestrat_percent.append(i/dtu1_changingstrat_total)\n",
    "\n",
    "#dtu2 changestrat\n",
    "dtu2_changingstrat_total = 39\n",
    "dtu2_changestrat_percent = []\n",
    "for i in dtu2_changing_strat: \n",
    "    dtu2_changestrat_percent.append(i/dtu2_changingstrat_total)\n",
    "\n",
    "###\n",
    "df = df1\n",
    "#data generation for \"common\" barchart\n",
    "#change strategy list in percent dtu1\n",
    "percent_list1 = dtu1_changestrat_percent \n",
    "#change strategy list in percent for dtu2\n",
    "percent_list2 = dtu2_changestrat_percent \n",
    "x_values =  [\"Yes\", \"No\", \"Misc\"]\n",
    "x_values_str = [\"Yes\", \"No\", \"Misc\"]\n",
    "\n",
    "data = []\n",
    "\n",
    "trace1 = go.Bar(\n",
    "    x=percent_list1,\n",
    "    y=x_values,\n",
    "    name='DTU1',\n",
    "    orientation = 'h'\n",
    ")\n",
    "trace2 = go.Bar(\n",
    "    x=percent_list2,\n",
    "    y=x_values,\n",
    "    name='DTU2',\n",
    "    orientation = 'h'\n",
    ")\n",
    "\n",
    "data = [trace1, trace2]\n",
    "\n",
    "\n",
    "layout = go.Layout(\n",
    "    #annotations = dict_list,\n",
    "    title = \"[DTU1] Did you ever choose differently after seeing the same arrival timeg <br> again at a later point in the game? Why or why not?\",\n",
    "    yaxis=dict(\n",
    "        title = 'Answers',\n",
    "    ),\n",
    "    xaxis=dict(\n",
    "        title = 'Percent',\n",
    "        \n",
    "    ),\n",
    "     font=dict(\n",
    "        family='courier new, monospace',\n",
    "        size=12,\n",
    "        color='#7f7f7f'\n",
    "    )\n",
    ")\n",
    "fig = go.Figure(data=data, layout=layout)\n",
    "\n",
    "py.iplot(fig, filename='plotx_changing_strategy_horizontal_grouped_bars')\n"
   ]
  },
  {
   "cell_type": "code",
   "execution_count": null,
   "metadata": {},
   "outputs": [],
   "source": []
  }
 ],
 "metadata": {
  "kernelspec": {
   "display_name": "Python 3",
   "language": "python",
   "name": "python3"
  },
  "language_info": {
   "codemirror_mode": {
    "name": "ipython",
    "version": 3
   },
   "file_extension": ".py",
   "mimetype": "text/x-python",
   "name": "python",
   "nbconvert_exporter": "python",
   "pygments_lexer": "ipython3",
   "version": "3.7.1"
  }
 },
 "nbformat": 4,
 "nbformat_minor": 2
}
