{
 "cells": [
  {
   "cell_type": "code",
   "execution_count": 1,
   "metadata": {},
   "outputs": [
    {
     "data": {
      "text/html": [
       "<script type=\"text/javascript\">window.PlotlyConfig = {MathJaxConfig: 'local'};</script><script type=\"text/javascript\">if (window.MathJax) {MathJax.Hub.Config({SVG: {font: \"STIX-Web\"}});}</script><script>requirejs.config({paths: { 'plotly': ['https://cdn.plot.ly/plotly-latest.min']},});if(!window._Plotly) {require(['plotly'],function(plotly) {window._Plotly=plotly;});}</script>"
      ],
      "text/vnd.plotly.v1+html": [
       "<script type=\"text/javascript\">window.PlotlyConfig = {MathJaxConfig: 'local'};</script><script type=\"text/javascript\">if (window.MathJax) {MathJax.Hub.Config({SVG: {font: \"STIX-Web\"}});}</script><script>requirejs.config({paths: { 'plotly': ['https://cdn.plot.ly/plotly-latest.min']},});if(!window._Plotly) {require(['plotly'],function(plotly) {window._Plotly=plotly;});}</script>"
      ]
     },
     "metadata": {},
     "output_type": "display_data"
    }
   ],
   "source": [
    "from plotly.offline import init_notebook_mode, iplot\n",
    "from IPython.display import display, HTML\n",
    "from plotly.graph_objs import Histogram as H\n",
    "import plotly.plotly as py\n",
    "import pandas as pd\n",
    "import numpy as np\n",
    "init_notebook_mode(connected=True)\n",
    "import plotly.graph_objs as go\n",
    "from datetime import datetime\n",
    "import seaborn as sns\n",
    "from statsmodels.stats.proportion import proportion_confint\n",
    "import numpy as np, scipy.stats as st\n",
    "\n",
    "df1 = pd.read_csv('../Data/amt240_allcd.csv') # amt df\n",
    "df2 = pd.read_csv('../Data/dtu1_allcd.csv') # dtu1 df\n",
    "df3 = pd.read_csv('../Data/dtu2_allcd.csv') # dtu2 df"
   ]
  },
  {
   "cell_type": "code",
   "execution_count": 2,
   "metadata": {},
   "outputs": [
    {
     "name": "stderr",
     "output_type": "stream",
     "text": [
      "C:\\Users\\Thomas\\Miniconda3\\envs\\py37viz\\lib\\site-packages\\IPython\\core\\display.py:689: UserWarning:\n",
      "\n",
      "Consider using IPython.display.IFrame instead\n",
      "\n"
     ]
    },
    {
     "data": {
      "text/html": [
       "<iframe id=\"igraph\" scrolling=\"no\" style=\"border:none;\" seamless=\"seamless\" src=\"https://plot.ly/~thomasnicolet/451.embed\" height=\"525px\" width=\"100%\"></iframe>"
      ],
      "text/plain": [
       "<plotly.tools.PlotlyDisplay object>"
      ]
     },
     "execution_count": 2,
     "metadata": {},
     "output_type": "execute_result"
    }
   ],
   "source": [
    "#plot_7\n",
    "#run to make barchart of \"fault\" answers\n",
    "import plotly.plotly as py\n",
    "import plotly.graph_objs as go\n",
    "\n",
    "#data generation for \"fault\" barchart\n",
    "df = df1\n",
    "\n",
    "x_values = ['My fault', 'Other\\'s fault', 'Other reason']\n",
    "count = 0\n",
    "total_count = len(df['fault'].dropna())\n",
    "percent_list = []\n",
    "lower_error_bound = []\n",
    "upper_error_bound = []\n",
    "\n",
    "\n",
    "for i in np.unique(df['fault'].dropna()):\n",
    "    count = len(df.loc[df['fault'] == i])\n",
    "    nob = total_count\n",
    "    percent_list.append(count / nob)\n",
    "    \n",
    "    lower, upper = proportion_confint(count, nob, alpha=0.05, method='normal')\n",
    "    lower_error_bound.append(lower)\n",
    "    upper_error_bound.append(upper)\n",
    "\n",
    "proper_lower_bound = []\n",
    "proper_upper_bound = []\n",
    "for i in range(len(percent_list)):\n",
    "    proper_lower_bound.append(percent_list[i] - lower_error_bound[i])\n",
    "    proper_upper_bound.append(upper_error_bound[i] - percent_list[i])\n",
    "\n",
    "#barchart traces - generic names, only change data generation above to properly filter\n",
    "data = [go.Bar(\n",
    "            x=x_values,\n",
    "            y=percent_list,\n",
    "            error_y=dict(\n",
    "                type='data',\n",
    "                array=proper_lower_bound,\n",
    "                visible=True\n",
    "            ) \n",
    "    )]\n",
    "\n",
    "#####################################\n",
    "#Generating list of dictionaries for annotation variable,\n",
    "#notice generic names, only change x_values and percent_list\n",
    "key_list = [['x', 'y', 'xref', 'yref', 'text', 'showarrow', 'arrowhead', 'ax', 'ay', 'arrowsize']]*len(x_values)\n",
    "my_list = []\n",
    "#make values\n",
    "value_list = []\n",
    "\n",
    "for i in range(0, len(x_values)):\n",
    "    my_list = []\n",
    "    my_list.append(x_values[i]),\n",
    "    my_list.append(percent_list[i]),\n",
    "    my_list.append('x'),\n",
    "    my_list.append('y'),\n",
    "    my_list.append(str(np.round(percent_list, 3)[i])),\n",
    "    my_list.append(True),\n",
    "    my_list.append(7),\n",
    "    #the next two items sets position\n",
    "    my_list.append(-30),\n",
    "    my_list.append(-30)\n",
    "    my_list.append(0.75)\n",
    "    value_list.append(my_list)\n",
    "    \n",
    "dict_list = []\n",
    "for i in range(0, len(key_list)):\n",
    "    a = key_list[i]\n",
    "    b = value_list[i]\n",
    "    my_tuple = tuple(zip(a,b))\n",
    "    my_dict = {}\n",
    "    for key, value in my_tuple:\n",
    "        my_dict[key] = value\n",
    "    dict_list.append(my_dict)\n",
    "###############################\n",
    "\n",
    "\n",
    "layout = go.Layout(\n",
    "    annotations = dict_list,\n",
    "    title = '[AMT] Barchart for \\'whose fault was it that the game was lost?\\'',\n",
    "    font=dict(\n",
    "        family='Courier New, monospace',\n",
    "        size=14,\n",
    "        color='#7f7f7f'\n",
    "    ),\n",
    "    yaxis=dict(\n",
    "        title = 'Count'\n",
    "    ),\n",
    "    xaxis=dict(\n",
    "        title = 'Answers'\n",
    "    )\n",
    ")\n",
    "\n",
    "fig = go.Figure(data=data, layout=layout)\n",
    "py.iplot(fig, filename='plot7x_whose fault_barchart')\n",
    "#barchart with error bars"
   ]
  },
  {
   "cell_type": "code",
   "execution_count": null,
   "metadata": {},
   "outputs": [],
   "source": []
  }
 ],
 "metadata": {
  "kernelspec": {
   "display_name": "Python 3",
   "language": "python",
   "name": "python3"
  },
  "language_info": {
   "codemirror_mode": {
    "name": "ipython",
    "version": 3
   },
   "file_extension": ".py",
   "mimetype": "text/x-python",
   "name": "python",
   "nbconvert_exporter": "python",
   "pygments_lexer": "ipython3",
   "version": "3.7.1"
  }
 },
 "nbformat": 4,
 "nbformat_minor": 2
}
