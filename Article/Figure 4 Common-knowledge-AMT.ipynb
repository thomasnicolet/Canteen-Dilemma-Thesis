{
 "cells": [
  {
   "cell_type": "code",
   "execution_count": 1,
   "metadata": {},
   "outputs": [
    {
     "data": {
      "text/html": [
       "<script type=\"text/javascript\">window.PlotlyConfig = {MathJaxConfig: 'local'};</script><script type=\"text/javascript\">if (window.MathJax) {MathJax.Hub.Config({SVG: {font: \"STIX-Web\"}});}</script><script>requirejs.config({paths: { 'plotly': ['https://cdn.plot.ly/plotly-latest.min']},});if(!window._Plotly) {require(['plotly'],function(plotly) {window._Plotly=plotly;});}</script>"
      ],
      "text/vnd.plotly.v1+html": [
       "<script type=\"text/javascript\">window.PlotlyConfig = {MathJaxConfig: 'local'};</script><script type=\"text/javascript\">if (window.MathJax) {MathJax.Hub.Config({SVG: {font: \"STIX-Web\"}});}</script><script>requirejs.config({paths: { 'plotly': ['https://cdn.plot.ly/plotly-latest.min']},});if(!window._Plotly) {require(['plotly'],function(plotly) {window._Plotly=plotly;});}</script>"
      ]
     },
     "metadata": {},
     "output_type": "display_data"
    }
   ],
   "source": [
    "from plotly.offline import init_notebook_mode, iplot\n",
    "from IPython.display import display, HTML\n",
    "from plotly.graph_objs import Histogram as H\n",
    "import plotly.plotly as py\n",
    "import pandas as pd\n",
    "import numpy as np\n",
    "init_notebook_mode(connected=True)\n",
    "import plotly.graph_objs as go\n",
    "from datetime import datetime\n",
    "import seaborn as sns\n",
    "from statsmodels.stats.proportion import proportion_confint\n",
    "import numpy as np, scipy.stats as st\n",
    "\n",
    "df1 = pd.read_csv('../Data/amt240_allcd.csv') # amt df\n",
    "df2 = pd.read_csv('../Data/dtu1_allcd.csv') # dtu1 df\n",
    "df3 = pd.read_csv('../Data/dtu2_allcd.csv') # dtu2 df"
   ]
  },
  {
   "cell_type": "code",
   "execution_count": 2,
   "metadata": {},
   "outputs": [
    {
     "ename": "NameError",
     "evalue": "name 'proper_lower_bound' is not defined",
     "output_type": "error",
     "traceback": [
      "\u001b[1;31m---------------------------------------------------------------------------\u001b[0m",
      "\u001b[1;31mNameError\u001b[0m                                 Traceback (most recent call last)",
      "\u001b[1;32m<ipython-input-2-72de66f83296>\u001b[0m in \u001b[0;36m<module>\u001b[1;34m\u001b[0m\n\u001b[0;32m     14\u001b[0m \u001b[0mlower\u001b[0m \u001b[1;33m=\u001b[0m \u001b[1;33m[\u001b[0m\u001b[1;33m]\u001b[0m\u001b[1;33m\u001b[0m\u001b[1;33m\u001b[0m\u001b[0m\n\u001b[0;32m     15\u001b[0m \u001b[0mlower_error_bound\u001b[0m \u001b[1;33m=\u001b[0m \u001b[1;33m[\u001b[0m\u001b[1;33m]\u001b[0m\u001b[1;33m\u001b[0m\u001b[1;33m\u001b[0m\u001b[0m\n\u001b[1;32m---> 16\u001b[1;33m \u001b[0mproper_lower_bound\u001b[0m\u001b[1;33m\u001b[0m\u001b[1;33m\u001b[0m\u001b[0m\n\u001b[0m\u001b[0;32m     17\u001b[0m \u001b[1;32mfor\u001b[0m \u001b[0mi\u001b[0m \u001b[1;32min\u001b[0m \u001b[0mnp\u001b[0m\u001b[1;33m.\u001b[0m\u001b[0munique\u001b[0m\u001b[1;33m(\u001b[0m\u001b[0mdf\u001b[0m\u001b[1;33m[\u001b[0m\u001b[1;34m'simple'\u001b[0m\u001b[1;33m]\u001b[0m\u001b[1;33m.\u001b[0m\u001b[0mdropna\u001b[0m\u001b[1;33m(\u001b[0m\u001b[1;33m)\u001b[0m\u001b[1;33m)\u001b[0m\u001b[1;33m:\u001b[0m\u001b[1;33m\u001b[0m\u001b[1;33m\u001b[0m\u001b[0m\n\u001b[0;32m     18\u001b[0m     \u001b[0mcounter\u001b[0m \u001b[1;33m=\u001b[0m \u001b[0mlen\u001b[0m\u001b[1;33m(\u001b[0m\u001b[0mdf\u001b[0m\u001b[1;33m[\u001b[0m\u001b[0mdf\u001b[0m\u001b[1;33m[\u001b[0m\u001b[1;34m'simple'\u001b[0m\u001b[1;33m]\u001b[0m\u001b[1;33m==\u001b[0m\u001b[0mi\u001b[0m\u001b[1;33m]\u001b[0m\u001b[1;33m)\u001b[0m\u001b[1;33m\u001b[0m\u001b[1;33m\u001b[0m\u001b[0m\n",
      "\u001b[1;31mNameError\u001b[0m: name 'proper_lower_bound' is not defined"
     ]
    }
   ],
   "source": [
    "#plot_8\n",
    "#run to make barchart of \"simple common knowledge\" answers\n",
    "import plotly.plotly as py\n",
    "import plotly.graph_objs as go\n",
    "df = df2\n",
    "\n",
    "#data generation for \"common\" barchart\n",
    "df_simple = df[['simple', 'code']]\n",
    "df_simple = df_simple.dropna()\n",
    "x_values = ['Yes', 'No', \"Dont know\"]\n",
    "\n",
    "df=df1\n",
    "percent_list = []\n",
    "lower = []\n",
    "lower_error_bound = []\n",
    "proper_lower_bound\n",
    "for i in np.unique(df['simple'].dropna()):\n",
    "    counter = len(df[df['simple']==i])\n",
    "    total = len(df['simple'].dropna())\n",
    "    lower, upper = proportion_confint(count, total, alpha=0.05, method='normal')\n",
    "    lower_error_bound.append(lower)\n",
    "    percent_list.append( counter / total)\n",
    "    \n",
    "\n",
    "proper_lower_bound = []\n",
    "for i in range(len(percent_list)):\n",
    "    proper_lower_bound.append(percent_list[i] - lower_error_bound[i])\n",
    "\n",
    "#barchart traces - generic names, only change data generation above to properly filter\n",
    "data = [go.Bar(\n",
    "            x=x_values,\n",
    "            y=percent_list,\n",
    "            error_y=dict(\n",
    "                type='data',\n",
    "                array=lower_error_bound,\n",
    "                visible=True\n",
    "            ) \n",
    "    )]\n",
    "##\n",
    "#####################################\n",
    "#Generating list of dictionaries for annotation variable,\n",
    "#notice generic names, only change x_values and percent_list\n",
    "key_list = [['x', 'y', 'xref', 'yref', 'text', 'showarrow', 'arrowhead', 'ax', 'ay', 'arrowsize']]*len(x_values)\n",
    "my_list = []\n",
    "#make values\n",
    "value_list = []\n",
    "\n",
    "for i in range(0, len(x_values)):\n",
    "    my_list = []\n",
    "    my_list.append(x_values[i]),\n",
    "    my_list.append(percent_list[i]),\n",
    "    my_list.append('x'),\n",
    "    my_list.append('y'),\n",
    "    my_list.append(str(np.round(percent_list, 3)[i])),\n",
    "    my_list.append(True),\n",
    "    my_list.append(7),\n",
    "    #the next two items sets position\n",
    "    my_list.append(-30),\n",
    "    my_list.append(-30)\n",
    "    my_list.append(0.75)\n",
    "    value_list.append(my_list)\n",
    "    \n",
    "dict_list = []\n",
    "for i in range(0, len(key_list)):\n",
    "    a = key_list[i]\n",
    "    b = value_list[i]\n",
    "    my_tuple = tuple(zip(a,b))\n",
    "    my_dict = {}\n",
    "    for key, value in my_tuple:\n",
    "        my_dict[key] = value\n",
    "    dict_list.append(my_dict)\n",
    "###############################\n",
    "\n",
    "layout = go.Layout(\n",
    "    annotations=dict_list,\n",
    "    title = \"AMT: Imagine you arrive at 8:00 am. \\n Is it common knowledge between you and your colleague that it is \\n safe to go to the canteen, that is, you both arrived before 9:00 am?\",\n",
    "    yaxis=dict(\n",
    "        title = 'Count'\n",
    "    ),\n",
    "    xaxis=dict(\n",
    "        title = 'Answers'\n",
    "    ),\n",
    "     font=dict(\n",
    "        family='Courier New, monospace',\n",
    "        size=14,\n",
    "        color='#7f7f7f'\n",
    "    )\n",
    ")\n",
    "fig = go.Figure(data=data, layout=layout)\n",
    "\n",
    "py.iplot(fig, filename='plot8_question_of_cowmmonknowledge-bar')"
   ]
  },
  {
   "cell_type": "code",
   "execution_count": null,
   "metadata": {},
   "outputs": [],
   "source": []
  },
  {
   "cell_type": "code",
   "execution_count": null,
   "metadata": {},
   "outputs": [],
   "source": []
  },
  {
   "cell_type": "code",
   "execution_count": null,
   "metadata": {},
   "outputs": [],
   "source": []
  },
  {
   "cell_type": "code",
   "execution_count": null,
   "metadata": {},
   "outputs": [],
   "source": []
  },
  {
   "cell_type": "code",
   "execution_count": null,
   "metadata": {},
   "outputs": [],
   "source": []
  },
  {
   "cell_type": "code",
   "execution_count": null,
   "metadata": {},
   "outputs": [],
   "source": []
  },
  {
   "cell_type": "code",
   "execution_count": null,
   "metadata": {},
   "outputs": [],
   "source": []
  },
  {
   "cell_type": "code",
   "execution_count": null,
   "metadata": {},
   "outputs": [],
   "source": []
  },
  {
   "cell_type": "code",
   "execution_count": null,
   "metadata": {},
   "outputs": [],
   "source": []
  }
 ],
 "metadata": {
  "kernelspec": {
   "display_name": "Python 3",
   "language": "python",
   "name": "python3"
  },
  "language_info": {
   "codemirror_mode": {
    "name": "ipython",
    "version": 3
   },
   "file_extension": ".py",
   "mimetype": "text/x-python",
   "name": "python",
   "nbconvert_exporter": "python",
   "pygments_lexer": "ipython3",
   "version": "3.7.1"
  }
 },
 "nbformat": 4,
 "nbformat_minor": 2
}
