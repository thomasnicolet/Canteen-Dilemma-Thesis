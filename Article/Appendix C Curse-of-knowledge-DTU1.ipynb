{
 "cells": [
  {
   "cell_type": "code",
   "execution_count": 1,
   "metadata": {},
   "outputs": [
    {
     "data": {
      "text/html": [
       "<script type=\"text/javascript\">window.PlotlyConfig = {MathJaxConfig: 'local'};</script><script type=\"text/javascript\">if (window.MathJax) {MathJax.Hub.Config({SVG: {font: \"STIX-Web\"}});}</script><script>requirejs.config({paths: { 'plotly': ['https://cdn.plot.ly/plotly-latest.min']},});if(!window._Plotly) {require(['plotly'],function(plotly) {window._Plotly=plotly;});}</script>"
      ],
      "text/vnd.plotly.v1+html": [
       "<script type=\"text/javascript\">window.PlotlyConfig = {MathJaxConfig: 'local'};</script><script type=\"text/javascript\">if (window.MathJax) {MathJax.Hub.Config({SVG: {font: \"STIX-Web\"}});}</script><script>requirejs.config({paths: { 'plotly': ['https://cdn.plot.ly/plotly-latest.min']},});if(!window._Plotly) {require(['plotly'],function(plotly) {window._Plotly=plotly;});}</script>"
      ]
     },
     "metadata": {},
     "output_type": "display_data"
    }
   ],
   "source": [
    "from plotly.offline import init_notebook_mode, iplot\n",
    "from IPython.display import display, HTML\n",
    "from plotly.graph_objs import Histogram as H\n",
    "import plotly.plotly as py\n",
    "import pandas as pd\n",
    "import numpy as np\n",
    "init_notebook_mode(connected=True)\n",
    "import plotly.graph_objs as go\n",
    "from datetime import datetime\n",
    "import seaborn as sns\n",
    "from statsmodels.stats.proportion import proportion_confint\n",
    "import numpy as np, scipy.stats as st\n",
    "\n",
    "#init dataframes from csvs\n",
    "df1 = pd.read_csv('../Data/amt240_allcd.csv') # amt df\n",
    "df2 = pd.read_csv('../Data/dtu1_allcd.csv') # dtu1 df\n",
    "df3 = pd.read_csv('../Data/dtu2_allcd.csv') # dtu2 df"
   ]
  },
  {
   "cell_type": "code",
   "execution_count": 2,
   "metadata": {},
   "outputs": [
    {
     "name": "stderr",
     "output_type": "stream",
     "text": [
      "C:\\Users\\Thomas\\Miniconda3\\envs\\py37viz\\lib\\site-packages\\IPython\\core\\display.py:689: UserWarning:\n",
      "\n",
      "Consider using IPython.display.IFrame instead\n",
      "\n"
     ]
    },
    {
     "data": {
      "text/html": [
       "<iframe id=\"igraph\" scrolling=\"no\" style=\"border:none;\" seamless=\"seamless\" src=\"https://plot.ly/~thomasnicolet/451.embed\" height=\"525px\" width=\"100%\"></iframe>"
      ],
      "text/plain": [
       "<plotly.tools.PlotlyDisplay object>"
      ]
     },
     "execution_count": 2,
     "metadata": {},
     "output_type": "execute_result"
    }
   ],
   "source": [
    "#run to make barchart of \"curse of knowledge\" answers - DTU1 trial\n",
    "\n",
    "df = df3\n",
    "\n",
    "x_values = ['Arriving at 8:40', 'Arriving at 9:00']\n",
    "\n",
    "# 8:400 answers\n",
    "count = 0\n",
    "total_count = len(df['cok840'].dropna())\n",
    "percent_list1 = []\n",
    "lower_error_bound = []\n",
    "upper_error_bound = []\n",
    "\n",
    "#find percent choosing canteen and percent choosing office\n",
    "for i in [1., 0.]:\n",
    "    count = len(df.loc[df['cok840'] == i])\n",
    "    nob = total_count\n",
    "    percent_list1.append(count / nob)\n",
    "    lower, upper = proportion_confint(count, nob, alpha=0.05, method='normal')\n",
    "    lower_error_bound.append(lower)\n",
    "    upper_error_bound.append(upper)\n",
    "#only one bound is needed, as its +/-\n",
    "proper_lower_bound = []\n",
    "for i in range(len(percent_list1)):\n",
    "    proper_lower_bound.append(percent_list1[i] - lower_error_bound[i])\n",
    "\n",
    "#now for 9:00\n",
    "count2 = 0\n",
    "total_count2 = len(df['cok900'].dropna())\n",
    "percent_list2 = []\n",
    "lower_error_bound2 = []\n",
    "upper_error_bound2 = []\n",
    "\n",
    "for i in [1., 0.]:\n",
    "    count2 = len(df.loc[df['cok900'] == i])\n",
    "    nob2 = total_count2\n",
    "    percent_list2.append(count2 / nob2)\n",
    "    \n",
    "    lower2, upper2 = proportion_confint(count2, nob2, alpha=0.05, method='normal')\n",
    "    lower_error_bound2.append(lower2)\n",
    "    upper_error_bound2.append(upper2)\n",
    "    \n",
    "proper_lower_bound2 = []\n",
    "for i in range(len(percent_list2)):\n",
    "    proper_lower_bound2.append(percent_list2[i] - lower_error_bound2[i])\n",
    "    \n",
    "canteen_list = [percent_list1[0], percent_list2[0]]\n",
    "office_list = [percent_list1[1], percent_list2[1]]\n",
    "canteen_lower_error = [proper_lower_bound[0], proper_lower_bound2[0]]\n",
    "office_lower_error = [proper_lower_bound[1], proper_lower_bound2[1]]\n",
    "\n",
    "#barchart traces - generic names, only change data generation above to properly filter\n",
    "trace1 = go.Bar(\n",
    "    x=x_values,\n",
    "    y=[percent_list1[0], percent_list2[0]],\n",
    "    name = 'Canteen',\n",
    "    error_y=dict(\n",
    "        type='data',\n",
    "        array=canteen_lower_error,\n",
    "        visible=True\n",
    "        ) \n",
    "    )\n",
    "trace2 = go.Bar(\n",
    "    x=x_values,\n",
    "    y=[percent_list1[1], percent_list2[1]],\n",
    "    name = 'Office',\n",
    "    error_y=dict(\n",
    "        type='data',\n",
    "        array=office_lower_error,\n",
    "        visible=True\n",
    "        ) \n",
    "    )\n",
    "\n",
    "data = [trace1, trace2]\n",
    "\n",
    "#####################################\n",
    "#Generating list of dictionaries for annotation variable,\n",
    "#notice generic names, only change x_values and percent_list\n",
    "key_list = [['x', 'y', 'xref', 'yref', 'text', 'showarrow', 'arrowhead', 'ax', 'ay', 'arrowsize']]*len(x_values)\n",
    "my_list = []\n",
    "#make values\n",
    "value_list = []\n",
    "\n",
    "for i in range(0, len(x_values)):\n",
    "    my_list = []\n",
    "    my_list.append(x_values[i]),\n",
    "    my_list.append(percent_list1[i]),\n",
    "    my_list.append('x'),\n",
    "    my_list.append('y'),\n",
    "    my_list.append(str(np.round(percent_list1, 3)[i])),\n",
    "    my_list.append(True),\n",
    "    my_list.append(7),\n",
    "    #the next two items sets position\n",
    "    my_list.append(-30),\n",
    "    my_list.append(-30)\n",
    "    my_list.append(0.75)\n",
    "    value_list.append(my_list)\n",
    "    \n",
    "dict_list = []\n",
    "for i in range(0, len(key_list)):\n",
    "    a = key_list[i]\n",
    "    b = value_list[i]\n",
    "    my_tuple = tuple(zip(a,b))\n",
    "    my_dict = {}\n",
    "    for key, value in my_tuple:\n",
    "        my_dict[key] = value\n",
    "    dict_list.append(my_dict)\n",
    "###############################\n",
    "\n",
    "\n",
    "layout = go.Layout(\n",
    "    barmode = 'group',\n",
    "    #annotations = dict_list,\n",
    "    title = '[DTU1] Barchart for Curse of Knowledge question. <br> You arrive at x, you secretly know your colleague arrived at 8:50 <br> Where does your colleague go?',\n",
    "    font=dict(\n",
    "        family='Open Sans, monospace', #Courier New\n",
    "        size=14,\n",
    "        color='#000000'#'#7f7f7f'\n",
    "    ),\n",
    "    yaxis=dict(\n",
    "        title = 'Percent'\n",
    "    ),\n",
    "    xaxis=dict(\n",
    "        title = 'Answers'\n",
    "    )\n",
    ")\n",
    "\n",
    "\n",
    "fig = go.Figure(data=data, layout=layout)\n",
    "py.iplot(fig, filename='plot7x_whose fault_barchart')\n",
    "#barchart with error bars"
   ]
  },
  {
   "cell_type": "code",
   "execution_count": null,
   "metadata": {},
   "outputs": [],
   "source": []
  },
  {
   "cell_type": "code",
   "execution_count": null,
   "metadata": {},
   "outputs": [],
   "source": []
  }
 ],
 "metadata": {
  "kernelspec": {
   "display_name": "Python 3",
   "language": "python",
   "name": "python3"
  },
  "language_info": {
   "codemirror_mode": {
    "name": "ipython",
    "version": 3
   },
   "file_extension": ".py",
   "mimetype": "text/x-python",
   "name": "python",
   "nbconvert_exporter": "python",
   "pygments_lexer": "ipython3",
   "version": "3.7.1"
  }
 },
 "nbformat": 4,
 "nbformat_minor": 2
}
