{
 "cells": [
  {
   "cell_type": "code",
   "execution_count": 1,
   "metadata": {},
   "outputs": [
    {
     "data": {
      "text/html": [
       "<script type=\"text/javascript\">window.PlotlyConfig = {MathJaxConfig: 'local'};</script><script type=\"text/javascript\">if (window.MathJax) {MathJax.Hub.Config({SVG: {font: \"STIX-Web\"}});}</script><script>requirejs.config({paths: { 'plotly': ['https://cdn.plot.ly/plotly-latest.min']},});if(!window._Plotly) {require(['plotly'],function(plotly) {window._Plotly=plotly;});}</script>"
      ],
      "text/vnd.plotly.v1+html": [
       "<script type=\"text/javascript\">window.PlotlyConfig = {MathJaxConfig: 'local'};</script><script type=\"text/javascript\">if (window.MathJax) {MathJax.Hub.Config({SVG: {font: \"STIX-Web\"}});}</script><script>requirejs.config({paths: { 'plotly': ['https://cdn.plot.ly/plotly-latest.min']},});if(!window._Plotly) {require(['plotly'],function(plotly) {window._Plotly=plotly;});}</script>"
      ]
     },
     "metadata": {},
     "output_type": "display_data"
    }
   ],
   "source": [
    "from plotly.offline import init_notebook_mode, iplot\n",
    "from IPython.display import display, HTML\n",
    "from plotly.graph_objs import Histogram as H\n",
    "import plotly.plotly as py\n",
    "import pandas as pd\n",
    "import numpy as np\n",
    "init_notebook_mode(connected=True)\n",
    "import plotly.graph_objs as go\n",
    "from datetime import datetime\n",
    "import seaborn as sns\n",
    "from statsmodels.stats.proportion import proportion_confint\n",
    "import numpy as np, scipy.stats as st\n",
    "\n",
    "df1 = pd.read_csv('../Data/amt240_allcd.csv')\n",
    "df2 = pd.read_csv('../Data/dtu1_allcd.csv')\n",
    "df3 = pd.read_csv('../Data/dtu2_allcd.csv')"
   ]
  },
  {
   "cell_type": "code",
   "execution_count": 2,
   "metadata": {},
   "outputs": [
    {
     "name": "stderr",
     "output_type": "stream",
     "text": [
      "C:\\Users\\Thomas\\Miniconda3\\envs\\py37viz\\lib\\site-packages\\IPython\\core\\display.py:689: UserWarning:\n",
      "\n",
      "Consider using IPython.display.IFrame instead\n",
      "\n"
     ]
    },
    {
     "data": {
      "text/html": [
       "<iframe id=\"igraph\" scrolling=\"no\" style=\"border:none;\" seamless=\"seamless\" src=\"https://plot.ly/~thomasnicolet/449.embed\" height=\"525px\" width=\"100%\"></iframe>"
      ],
      "text/plain": [
       "<plotly.tools.PlotlyDisplay object>"
      ]
     },
     "execution_count": 2,
     "metadata": {},
     "output_type": "execute_result"
    }
   ],
   "source": [
    "# plot 14\n",
    "df = df1\n",
    "certainty_per_time = []\n",
    "temp_int = 0\n",
    "\n",
    "for i in np.unique(df['certainty']): # start at 0.5, then 0.625 etc\n",
    "    temp_list = []\n",
    "    \n",
    "    for j in np.unique(df['arrival']): # start at 0.8, then 8.1 etc\n",
    "        temp_int = len(df[(df['arrival'] == j) & (df['certainty']== i)]) # firt 15, then 12...\n",
    "        \n",
    "         #append the count of certainty per the given time to list\n",
    "        temp_list.append(temp_int)\n",
    "        \n",
    "    #then append the list to the list of lists\n",
    "    certainty_per_time.append(temp_list)\n",
    "\n",
    "certainty_transposed = np.transpose(certainty_per_time)\n",
    "percent_list = []\n",
    "proper_upper = []\n",
    "proper_lower = []\n",
    "for row in certainty_transposed:\n",
    "    temp_total = 0\n",
    "    percent = 0\n",
    "    temp_list = []\n",
    "    proper_lower_deviation = []\n",
    "    proper_upper_deviation = []\n",
    "    for num in row:\n",
    "        temp_total += num\n",
    "    \n",
    "    for num in row:\n",
    "        percent = (num / temp_total)\n",
    "        temp_list.append(num / temp_total)\n",
    "        lower = 0\n",
    "        upper = 0\n",
    "        lower, upper = proportion_confint(num, temp_total, alpha=0.05, method='normal')\n",
    "        proper_lower_deviation.append(percent - lower)\n",
    "        proper_upper_deviation.append(upper - percent)\n",
    "    \n",
    "    percent_list.append(temp_list)\n",
    "    proper_upper.append(proper_upper_deviation)\n",
    "    proper_lower.append(proper_lower_deviation)\n",
    "######\n",
    "\n",
    "certainty = np.unique(df['certainty'])\n",
    "x_values = [\"8:00\", \"8:10\", \"8:20\", \"8:30\", \"8:40\", \"8:50\", \"9:00\", \"9:10\"]\n",
    "data = []\n",
    "y_values = np.transpose(percent_list)\n",
    "certainty_str = [\"very uncertain\", \"slightly certain\", \"somewhat certain\", \"quite certain\", \"very certain\"]\n",
    "\n",
    "for i in range(0, len(y_values)):\n",
    "    trace = go.Bar(\n",
    "    x=x_values,\n",
    "    y=y_values[i],\n",
    "    name=certainty_str[i],\n",
    "    error_y=dict(\n",
    "        type='data',\n",
    "        array=np.transpose(proper_upper)[i],\n",
    "        visible=True\n",
    "        )\n",
    "    )\n",
    "    data.append(trace)\n",
    "\n",
    "layout = go.Layout(\n",
    "    barmode='group',\n",
    "    yaxis=dict(\n",
    "        range = [0,1],\n",
    "        title= 'Percent'\n",
    "    ),\n",
    "    xaxis=dict(\n",
    "        title = 'Arrival times'\n",
    "    ),\n",
    "    title='[AMT] Count of certainty estimates per arrival time'\n",
    ")\n",
    "\n",
    "fig = go.Figure(data=data, layout=layout)\n",
    "py.iplot(fig, filename='plot14_certainty_grouped_bar_chart')"
   ]
  },
  {
   "cell_type": "code",
   "execution_count": null,
   "metadata": {},
   "outputs": [],
   "source": []
  },
  {
   "cell_type": "code",
   "execution_count": null,
   "metadata": {},
   "outputs": [],
   "source": []
  }
 ],
 "metadata": {
  "kernelspec": {
   "display_name": "Python 3",
   "language": "python",
   "name": "python3"
  },
  "language_info": {
   "codemirror_mode": {
    "name": "ipython",
    "version": 3
   },
   "file_extension": ".py",
   "mimetype": "text/x-python",
   "name": "python",
   "nbconvert_exporter": "python",
   "pygments_lexer": "ipython3",
   "version": "3.7.1"
  }
 },
 "nbformat": 4,
 "nbformat_minor": 2
}
