{
 "cells": [
  {
   "cell_type": "code",
   "execution_count": 35,
   "metadata": {},
   "outputs": [
    {
     "data": {
      "text/html": [
       "<script type=\"text/javascript\">window.PlotlyConfig = {MathJaxConfig: 'local'};</script><script type=\"text/javascript\">if (window.MathJax) {MathJax.Hub.Config({SVG: {font: \"STIX-Web\"}});}</script><script>requirejs.config({paths: { 'plotly': ['https://cdn.plot.ly/plotly-latest.min']},});if(!window._Plotly) {require(['plotly'],function(plotly) {window._Plotly=plotly;});}</script>"
      ],
      "text/vnd.plotly.v1+html": [
       "<script type=\"text/javascript\">window.PlotlyConfig = {MathJaxConfig: 'local'};</script><script type=\"text/javascript\">if (window.MathJax) {MathJax.Hub.Config({SVG: {font: \"STIX-Web\"}});}</script><script>requirejs.config({paths: { 'plotly': ['https://cdn.plot.ly/plotly-latest.min']},});if(!window._Plotly) {require(['plotly'],function(plotly) {window._Plotly=plotly;});}</script>"
      ]
     },
     "metadata": {},
     "output_type": "display_data"
    }
   ],
   "source": [
    "from plotly.offline import init_notebook_mode, iplot\n",
    "from IPython.display import display, HTML\n",
    "from plotly.graph_objs import Histogram as H\n",
    "import plotly.plotly as py\n",
    "import pandas as pd\n",
    "import numpy as np\n",
    "init_notebook_mode(connected=True)\n",
    "import plotly.graph_objs as go\n",
    "from datetime import datetime\n",
    "import seaborn as sns"
   ]
  },
  {
   "cell_type": "code",
   "execution_count": 4,
   "metadata": {},
   "outputs": [
    {
     "data": {
      "text/plain": [
       "Index(['participant.id_in_session', 'participant.code', 'participant.label',\n",
       "       'participant._is_bot', 'participant._index_in_pages',\n",
       "       'participant._max_page_index', 'participant._current_app_name',\n",
       "       'participant._round_number', 'participant._current_page_name',\n",
       "       'participant.ip_address', 'participant.time_started',\n",
       "       'participant.exclude_from_data_analysis', 'participant.visited',\n",
       "       'participant.mturk_worker_id', 'participant.mturk_assignment_id',\n",
       "       'participant.payoff', 'player.id_in_group', 'player.arrival_time',\n",
       "       'player.choice', 'player.strategy_cafeteria_dilemma',\n",
       "       'player.common_knowledge', 'player.certainty', 'player.payoff',\n",
       "       'group.id_in_subsession', 'group.payoff', 'group.game_lost',\n",
       "       'subsession.round_number', 'session.code', 'session.label',\n",
       "       'session.experimenter_name', 'session.mturk_HITId',\n",
       "       'session.mturk_HITGroupId', 'session.comment', 'session.is_demo'],\n",
       "      dtype='object')"
      ]
     },
     "execution_count": 4,
     "metadata": {},
     "output_type": "execute_result"
    }
   ],
   "source": [
    "canteen2 = pd.read_csv('../Data/cafeteria_dilemma_2.csv')\n",
    "\n",
    "canteen2.columns\n",
    "\n"
   ]
  },
  {
   "cell_type": "code",
   "execution_count": 5,
   "metadata": {},
   "outputs": [],
   "source": [
    "round1_df = canteen2[canteen2[\"subsession.round_number\"]==1]"
   ]
  },
  {
   "cell_type": "code",
   "execution_count": 113,
   "metadata": {},
   "outputs": [
    {
     "data": {
      "text/plain": [
       "0        Office\n",
       "1     Cafeteria\n",
       "2        Office\n",
       "3        Office\n",
       "4     Cafeteria\n",
       "5     Cafeteria\n",
       "6     Cafeteria\n",
       "7     Cafeteria\n",
       "8        Office\n",
       "9        Office\n",
       "10       Office\n",
       "11    Cafeteria\n",
       "12       Office\n",
       "13       Office\n",
       "14       Office\n",
       "15    Cafeteria\n",
       "16    Cafeteria\n",
       "17       Office\n",
       "18    Cafeteria\n",
       "19    Cafeteria\n",
       "20    Cafeteria\n",
       "21    Cafeteria\n",
       "22    Cafeteria\n",
       "23       Office\n",
       "Name: player.choice, dtype: object"
      ]
     },
     "execution_count": 113,
     "metadata": {},
     "output_type": "execute_result"
    }
   ],
   "source": [
    "round1_df[\"player.choice\"]"
   ]
  },
  {
   "cell_type": "code",
   "execution_count": 48,
   "metadata": {},
   "outputs": [],
   "source": []
  },
  {
   "cell_type": "code",
   "execution_count": null,
   "metadata": {},
   "outputs": [],
   "source": []
  },
  {
   "cell_type": "code",
   "execution_count": 114,
   "metadata": {},
   "outputs": [
    {
     "data": {
      "text/plain": [
       "array([8.31, 8.32, 8.33, 8.35, 8.36, 8.37, 8.38, 8.39, 8.4 , 8.41, 8.42,\n",
       "       8.43, 8.44, 8.45, 8.46, 8.47, 8.48, 8.49, 8.5 , 8.51, 8.52, 8.53,\n",
       "       8.54, 8.55, 8.56, 8.57, 8.58, 8.59, 9.  , 9.01, 9.02, 9.03, 9.04,\n",
       "       9.05, 9.06, 9.08, 9.09])"
      ]
     },
     "execution_count": 114,
     "metadata": {},
     "output_type": "execute_result"
    }
   ],
   "source": [
    "np.unique(canteen2['player.arrival_time'])"
   ]
  },
  {
   "cell_type": "code",
   "execution_count": 6,
   "metadata": {},
   "outputs": [
    {
     "data": {
      "text/plain": [
       "1     8.52\n",
       "4     8.49\n",
       "5     8.44\n",
       "6     8.49\n",
       "7     8.54\n",
       "11    8.47\n",
       "15    8.55\n",
       "16    9.02\n",
       "18    8.36\n",
       "19    8.31\n",
       "20    8.38\n",
       "21    8.43\n",
       "22    8.53\n",
       "Name: player.arrival_time, dtype: float64"
      ]
     },
     "execution_count": 6,
     "metadata": {},
     "output_type": "execute_result"
    }
   ],
   "source": [
    "#arrival for cafeteria\n",
    "round1_df[round1_df[\"player.choice\"]==\"Cafeteria\"][\"player.arrival_time\"]"
   ]
  },
  {
   "cell_type": "code",
   "execution_count": 7,
   "metadata": {},
   "outputs": [
    {
     "data": {
      "text/plain": [
       "array([8.31, 8.36, 8.38, 8.43, 8.44, 8.47, 8.49, 8.49, 8.52, 8.52, 8.53,\n",
       "       8.53, 8.54, 8.55, 8.55, 8.57, 8.57, 9.01, 9.02, 9.04, 9.05, 9.05,\n",
       "       9.06, 9.09])"
      ]
     },
     "execution_count": 7,
     "metadata": {},
     "output_type": "execute_result"
    }
   ],
   "source": [
    "round1_cafeteria_time = round1_df[\"player.arrival_time\"]\n",
    "np.sort(round1_cafeteria_time)"
   ]
  },
  {
   "cell_type": "code",
   "execution_count": 8,
   "metadata": {},
   "outputs": [
    {
     "data": {
      "text/plain": [
       "0     8.57\n",
       "2     9.01\n",
       "3     9.06\n",
       "8     9.05\n",
       "9     9.05\n",
       "10    8.52\n",
       "12    9.04\n",
       "13    9.09\n",
       "14    8.55\n",
       "17    8.57\n",
       "23    8.53\n",
       "Name: player.arrival_time, dtype: float64"
      ]
     },
     "execution_count": 8,
     "metadata": {},
     "output_type": "execute_result"
    }
   ],
   "source": [
    "round1_office_time = round1_df[round1_df[\"player.choice\"]==\"Office\"][\"player.arrival_time\"]\n",
    "round1_office_time"
   ]
  },
  {
   "cell_type": "code",
   "execution_count": 120,
   "metadata": {},
   "outputs": [
    {
     "data": {
      "text/plain": [
       "1     8.52\n",
       "4     8.49\n",
       "5     8.44\n",
       "6     8.49\n",
       "7     8.54\n",
       "11    8.47\n",
       "15    8.55\n",
       "16    9.02\n",
       "18    8.36\n",
       "19    8.31\n",
       "20    8.38\n",
       "21    8.43\n",
       "22    8.53\n",
       "Name: player.arrival_time, dtype: float64"
      ]
     },
     "execution_count": 120,
     "metadata": {},
     "output_type": "execute_result"
    }
   ],
   "source": [
    "round1_cafeteria_time = round1_df[round1_df[\"player.choice\"]==\"Cafeteria\"][\"player.arrival_time\"]\n",
    "round1_cafeteria_time"
   ]
  },
  {
   "cell_type": "code",
   "execution_count": 99,
   "metadata": {},
   "outputs": [
    {
     "data": {
      "text/plain": [
       "0     8.57\n",
       "1     8.52\n",
       "2     9.01\n",
       "3     9.06\n",
       "4     8.49\n",
       "5     8.44\n",
       "6     8.49\n",
       "7     8.54\n",
       "8     9.05\n",
       "9     9.05\n",
       "10    8.52\n",
       "11    8.47\n",
       "12    9.04\n",
       "13    9.09\n",
       "14    8.55\n",
       "15    8.55\n",
       "16    9.02\n",
       "17    8.57\n",
       "18    8.36\n",
       "19    8.31\n",
       "20    8.38\n",
       "21    8.43\n",
       "22    8.53\n",
       "23    8.53\n",
       "Name: player.arrival_time, dtype: float64"
      ]
     },
     "execution_count": 99,
     "metadata": {},
     "output_type": "execute_result"
    }
   ],
   "source": [
    "round1_df[\"player.arrival_time\"]"
   ]
  },
  {
   "cell_type": "code",
   "execution_count": null,
   "metadata": {},
   "outputs": [],
   "source": []
  },
  {
   "cell_type": "code",
   "execution_count": null,
   "metadata": {},
   "outputs": [],
   "source": [
    "import pylab as pl\n",
    ">>> pl.frange(0.5,5,0.5)\n",
    "array([ 0.5,  1. ,  1.5,  2. ,  2.5,  3. ,  3.5,  4. ,  4.5,  5. ])"
   ]
  },
  {
   "cell_type": "code",
   "execution_count": 31,
   "metadata": {
    "collapsed": true
   },
   "outputs": [
    {
     "data": {
      "text/plain": [
       "[1,\n",
       " 2,\n",
       " 2,\n",
       " 2,\n",
       " 2,\n",
       " 1,\n",
       " 3,\n",
       " 3,\n",
       " 3,\n",
       " 8,\n",
       " 8,\n",
       " 8,\n",
       " 8,\n",
       " 8,\n",
       " 8,\n",
       " 8,\n",
       " 8,\n",
       " 4,\n",
       " 4,\n",
       " 4,\n",
       " 4,\n",
       " 2,\n",
       " 2,\n",
       " 2,\n",
       " 2,\n",
       " 5,\n",
       " 5,\n",
       " 5,\n",
       " 5,\n",
       " 5,\n",
       " 12,\n",
       " 12,\n",
       " 12,\n",
       " 12,\n",
       " 12,\n",
       " 12,\n",
       " 12,\n",
       " 12,\n",
       " 12,\n",
       " 12,\n",
       " 12,\n",
       " 12,\n",
       " 4,\n",
       " 4,\n",
       " 4,\n",
       " 4,\n",
       " 7,\n",
       " 7,\n",
       " 7,\n",
       " 7,\n",
       " 7,\n",
       " 7,\n",
       " 7,\n",
       " 4,\n",
       " 4,\n",
       " 4,\n",
       " 4,\n",
       " 5,\n",
       " 5,\n",
       " 5,\n",
       " 5,\n",
       " 5,\n",
       " 3,\n",
       " 3,\n",
       " 3,\n",
       " 2,\n",
       " 2,\n",
       " 2,\n",
       " 2]"
      ]
     },
     "execution_count": 31,
     "metadata": {},
     "output_type": "execute_result"
    }
   ],
   "source": [
    "office_df = canteen2[canteen2[\"player.choice\"]==\"Office\"]\n",
    "np.unique(office_df[\"player.arrival_time\"])\n",
    "index_list=[]\n",
    "for time in np.sort(office_df[\"player.arrival_time\"]):\n",
    "    index_list.append(sum(np.sort(office_df[\"player.arrival_time\"])==time))\n",
    "\n",
    "index_list"
   ]
  },
  {
   "cell_type": "code",
   "execution_count": 33,
   "metadata": {
    "scrolled": true
   },
   "outputs": [
    {
     "data": {
      "text/plain": [
       "[8.51,\n",
       " 8.52,\n",
       " 8.52,\n",
       " 8.53,\n",
       " 8.53,\n",
       " 8.54,\n",
       " 8.55,\n",
       " 8.55,\n",
       " 8.55,\n",
       " 8.56,\n",
       " 8.56,\n",
       " 8.56,\n",
       " 8.56,\n",
       " 8.56,\n",
       " 8.56,\n",
       " 8.56,\n",
       " 8.56,\n",
       " 8.57,\n",
       " 8.57,\n",
       " 8.57,\n",
       " 8.57,\n",
       " 8.58,\n",
       " 8.58,\n",
       " 8.59,\n",
       " 8.59,\n",
       " 9.0,\n",
       " 9.0,\n",
       " 9.0,\n",
       " 9.0,\n",
       " 9.0,\n",
       " 9.01,\n",
       " 9.01,\n",
       " 9.01,\n",
       " 9.01,\n",
       " 9.01,\n",
       " 9.01,\n",
       " 9.01,\n",
       " 9.01,\n",
       " 9.01,\n",
       " 9.01,\n",
       " 9.01,\n",
       " 9.01,\n",
       " 9.02,\n",
       " 9.02,\n",
       " 9.02,\n",
       " 9.02,\n",
       " 9.03,\n",
       " 9.03,\n",
       " 9.03,\n",
       " 9.03,\n",
       " 9.03,\n",
       " 9.03,\n",
       " 9.03,\n",
       " 9.04,\n",
       " 9.04,\n",
       " 9.04,\n",
       " 9.04,\n",
       " 9.05,\n",
       " 9.05,\n",
       " 9.05,\n",
       " 9.05,\n",
       " 9.05,\n",
       " 9.06,\n",
       " 9.06,\n",
       " 9.06,\n",
       " 9.08,\n",
       " 9.08,\n",
       " 9.09,\n",
       " 9.09]"
      ]
     },
     "execution_count": 33,
     "metadata": {},
     "output_type": "execute_result"
    }
   ],
   "source": [
    "list(np.sort(office_df[\"player.arrival_time\"]))"
   ]
  },
  {
   "cell_type": "code",
   "execution_count": 37,
   "metadata": {},
   "outputs": [
    {
     "name": "stderr",
     "output_type": "stream",
     "text": [
      "C:\\Users\\Thomas\\Miniconda3\\envs\\py37viz\\lib\\site-packages\\IPython\\core\\display.py:689: UserWarning:\n",
      "\n",
      "Consider using IPython.display.IFrame instead\n",
      "\n"
     ]
    },
    {
     "data": {
      "text/html": [
       "<iframe id=\"igraph\" scrolling=\"no\" style=\"border:none;\" seamless=\"seamless\" src=\"https://plot.ly/~thomasnicolet/18.embed\" height=\"525px\" width=\"100%\"></iframe>"
      ],
      "text/plain": [
       "<plotly.tools.PlotlyDisplay object>"
      ]
     },
     "execution_count": 37,
     "metadata": {},
     "output_type": "execute_result"
    }
   ],
   "source": [
    "trace1 = go.Bar(\n",
    "    x=list(np.sort(office_df[\"player.arrival_time\"])),\n",
    "    y=index_list,\n",
    "    name='Office',\n",
    "    marker=dict(\n",
    "        color='rgb(55, 83, 109)'\n",
    "    )\n",
    ")\n",
    "\n",
    "data=[trace1]\n",
    "fig = go.Figure(data=data)\n",
    "py.iplot(fig, filename='style-bar')"
   ]
  },
  {
   "cell_type": "code",
   "execution_count": 9,
   "metadata": {},
   "outputs": [
    {
     "name": "stderr",
     "output_type": "stream",
     "text": [
      "C:\\Users\\Thomas\\Miniconda3\\envs\\py37viz\\lib\\site-packages\\IPython\\core\\display.py:689: UserWarning:\n",
      "\n",
      "Consider using IPython.display.IFrame instead\n",
      "\n"
     ]
    },
    {
     "data": {
      "text/html": [
       "<iframe id=\"igraph\" scrolling=\"no\" style=\"border:none;\" seamless=\"seamless\" src=\"https://plot.ly/~thomasnicolet/16.embed\" height=\"525px\" width=\"100%\"></iframe>"
      ],
      "text/plain": [
       "<plotly.tools.PlotlyDisplay object>"
      ]
     },
     "execution_count": 9,
     "metadata": {},
     "output_type": "execute_result"
    }
   ],
   "source": [
    "metascore_color = \"#ffd263\"\n",
    "userscore_color = \"#62d5ff\"\n",
    "new_data_list=[]\n",
    "bar_opacity = 0.8\n",
    "bin_size=0.1\n",
    "data=[]\n",
    "choice_trace = go.Histogram(\n",
    "            visible = True,\n",
    "            x=round1_cafeteria_time,\n",
    "            ##ADD/REMOVE HISTNORM FOR NORMALISING\n",
    "            histnorm='',\n",
    "            #histnorm='percent',\n",
    "            name='Cafeteria',\n",
    "            xbins=dict(\n",
    "                start=8,\n",
    "                end=9.1,\n",
    "                size=bin_size\n",
    "            ),\n",
    "            marker=dict(\n",
    "                color=metascore_color,\n",
    "            ),\n",
    "            opacity=bar_opacity\n",
    "        )\n",
    "data.append(choice_trace)\n",
    "office_trace = go.Histogram(\n",
    "            visible = True,\n",
    "            x=round1_office_time,\n",
    "            ##ADD/REMOVE HISTNORM FOR NORMALISING\n",
    "            histnorm='',\n",
    "            #histnorm='percent',\n",
    "            name='Office',\n",
    "            xbins=dict(\n",
    "                start=8,\n",
    "                end=9.1,\n",
    "                size=bin_size\n",
    "            ),\n",
    "            marker=dict(\n",
    "                color=userscore_color,\n",
    "            ),\n",
    "            opacity=bar_opacity\n",
    "        )\n",
    "data.append(office_trace)\n",
    "\n",
    "layout = dict(\n",
    "    yaxis=dict(\n",
    "        range=[0, 5],\n",
    "        title='Count'\n",
    "    ),\n",
    "    xaxis=dict(\n",
    "        range=[8, 11],\n",
    "        title='Userscore and metascores in bins of 5'\n",
    "    ),\n",
    "    barmode=\"overlay\"\n",
    "    )\n",
    "fig = dict(data=data)\n",
    "\n",
    "py.iplot(fig, filename='Cafeteria plot')"
   ]
  },
  {
   "cell_type": "code",
   "execution_count": null,
   "metadata": {},
   "outputs": [],
   "source": [
    "#init some variables\n",
    "years = list(range(2000, 2019))\n",
    "#metascore_color = \"#8da0cb\"\n",
    "#userscore_color = \"#fc8d62\"\n",
    "#Orange: #ffd263\n",
    "#Blue: #62d5ff\n",
    "metascore_color = \"#ffd263\"\n",
    "userscore_color = \"#62d5ff\"\n",
    "new_data_list=[]\n",
    "bar_opacity = 0.8\n",
    "bin_size=5\n",
    "\n",
    "## make datatraces and append to datalist\n",
    "for year in years:   \n",
    "    year_metatrace = go.Histogram(\n",
    "            visible = False,\n",
    "            x=meta_games_years[year]['metascore'],\n",
    "            ##ADD/REMOVE HISTNORM FOR NORMALISING\n",
    "            histnorm='',\n",
    "            #histnorm='percent',\n",
    "            name='metascore',\n",
    "            xbins=dict(\n",
    "                start=0,\n",
    "                end=100,\n",
    "                size=bin_size\n",
    "            ),\n",
    "            marker=dict(\n",
    "                color=metascore_color,\n",
    "            ),\n",
    "            opacity=bar_opacity\n",
    "        )\n",
    "    year_usertrace = go.Histogram(\n",
    "            visible = False,\n",
    "            x=meta_games_years[year]['userscore'].astype(float) * 10,\n",
    "            ##ADD/REMOVE HISTNORM FOR NORMALISING\n",
    "            histnorm='',\n",
    "            #histnorm='percent',\n",
    "            name='userscore',\n",
    "            xbins=dict(\n",
    "                start=0,\n",
    "                end=100,\n",
    "                size=bin_size\n",
    "            ),\n",
    "            marker=dict(\n",
    "                color=userscore_color,\n",
    "            ),\n",
    "            opacity=bar_opacity\n",
    "        )\n",
    "    \n",
    "    \n",
    "    new_data_list.append(year_metatrace)\n",
    "    new_data_list.append(year_usertrace)\n",
    "    #new_data_list.append(meta_mean) #only for mean of metascore\n",
    "    \n",
    "    \n",
    "new_data_list[0]['visible']=True\n",
    "new_data_list[1]['visible']=True\n",
    "\n",
    "#new_data_list[2]['visible']=True #metascore mean\n",
    "\n",
    "\n",
    "\n",
    "#list of bools for determining what trace to show as visible in 'args'\n",
    "data_bools = []\n",
    "for i in range(0, len(new_data_list), 2):\n",
    "    temp_big_bool = len(new_data_list) * [False]\n",
    "    temp_big_bool[i] = True\n",
    "    temp_big_bool[i + 1] = True\n",
    "    data_bools.append(temp_big_bool)"
   ]
  }
 ],
 "metadata": {
  "kernelspec": {
   "display_name": "Python 3",
   "language": "python",
   "name": "python3"
  },
  "language_info": {
   "codemirror_mode": {
    "name": "ipython",
    "version": 3
   },
   "file_extension": ".py",
   "mimetype": "text/x-python",
   "name": "python",
   "nbconvert_exporter": "python",
   "pygments_lexer": "ipython3",
   "version": "3.7.1"
  }
 },
 "nbformat": 4,
 "nbformat_minor": 2
}
