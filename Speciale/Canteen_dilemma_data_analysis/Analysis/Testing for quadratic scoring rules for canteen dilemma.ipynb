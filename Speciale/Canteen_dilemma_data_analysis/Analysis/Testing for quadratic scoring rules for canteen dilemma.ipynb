{
 "cells": [
  {
   "cell_type": "code",
   "execution_count": 2,
   "metadata": {},
   "outputs": [
    {
     "name": "stdout",
     "output_type": "stream",
     "text": [
      "---------------------- \n",
      "Both go to office: \n",
      "\n",
      "Probability set by player:  0.5\n",
      "Corresponding payout:  0.2928932188134524 \n",
      "\n",
      "Probability set by player:  0.625\n",
      "Corresponding payout:  0.38762756430420553 \n",
      "\n",
      "Probability set by player:  0.75\n",
      "Corresponding payout:  0.5 \n",
      "\n",
      "Probability set by player:  0.875\n",
      "Corresponding payout:  0.6464466094067263 \n",
      "\n",
      "Probability set by player:  0.99\n",
      "Corresponding payout:  0.8999999999999999 \n",
      "\n",
      "-----------------\n",
      "\n",
      "\n",
      "Both go to canteen: \n",
      "\n",
      "Probability set by player:  0.5\n",
      "Corresponding payout:  0.5857864376269049 \n",
      "\n",
      "Probability set by player:  0.625\n",
      "Corresponding payout:  0.7752551286084111 \n",
      "\n",
      "Probability set by player:  0.75\n",
      "Corresponding payout:  1.0 \n",
      "\n",
      "Probability set by player:  0.875\n",
      "Corresponding payout:  1.2928932188134525 \n",
      "\n",
      "Probability set by player:  0.99\n",
      "Corresponding payout:  1.7999999999999998 \n",
      "\n",
      "-----------------\n",
      "\n",
      "\n",
      "players miss each other: \n",
      "\n",
      "Probability set by player:  0.5\n",
      "and corresponding payout:  0.2928932188134524 \n",
      "\n",
      "Probability set by player:  0.625\n",
      "and corresponding payout:  0.20943058495790512 \n",
      "\n",
      "Probability set by player:  0.75\n",
      "and corresponding payout:  0.1339745962155614 \n",
      "\n",
      "Probability set by player:  0.875\n",
      "and corresponding payout:  0.06458565330651467 \n",
      "\n",
      "Probability set by player:  0.99\n",
      "and corresponding payout:  0.005012562893380035 \n",
      "\n"
     ]
    }
   ],
   "source": [
    "import math\n",
    "\n",
    "#x = 1\n",
    "#p_1 = 0.75\n",
    "\n",
    "#QSR = 1-(x(1-p_1)-((1-x)*(p_1)*p_1))\n",
    "#\n",
    "\n",
    "\n",
    "#my_win_qsr =(1 - (x*(1-p1))-((1-x)*p1*p1))*2\n",
    "\n",
    "#my_qsr =(1 - (x*(1-p1))-((1-x)*p1*p1))\n",
    "\n",
    "\n",
    "\n",
    "\n",
    "my_testing = 1-(1*(1-0.5))-((1-1)*0.75*0.75)\n",
    "\n",
    "my_prob = [0.5, 0.625, 0.75, 0.875, 0.99]\n",
    "\n",
    "print(\"---------------------- \\nBoth go to office: \\n\")\n",
    "for prob in my_prob:\n",
    "    x=1\n",
    "    p1=prob\n",
    "    my_qsr_office =1 - (x*(math.sqrt(1-p1))-(1-x)*math.sqrt(p1))\n",
    "    print(\"Probability set by player: \", prob)\n",
    "    print(\"Corresponding payout: \", my_qsr_office, \"\\n\")\n",
    "print(\"-----------------\\n\\n\")\n",
    "print(\"Both go to canteen: \\n\")\n",
    "for prob in my_prob:\n",
    "    x=1\n",
    "    p1=prob\n",
    "    my_qsr_canteen =(1 - (x*(math.sqrt(1-p1))-(1-x)*math.sqrt(p1)))*2\n",
    "    print(\"Probability set by player: \", prob)\n",
    "    print(\"Corresponding payout: \", my_qsr_canteen, \"\\n\")\n",
    "    \n",
    "print(\"-----------------\\n\\n\")\n",
    "print(\"players miss each other: \\n\")\n",
    "for prob in my_prob:\n",
    "    x=0\n",
    "    p1=prob\n",
    "    my_qsr_canteen =1-(x*(math.sqrt(1-p1)))-(1-x)*math.sqrt(p1)\n",
    "    print(\"Probability set by player: \", prob)\n",
    "    print(\"and corresponding payout: \", my_qsr_canteen, \"\\n\")\n",
    "    \n",
    "    \n"
   ]
  },
  {
   "cell_type": "code",
   "execution_count": 72,
   "metadata": {},
   "outputs": [
    {
     "name": "stdout",
     "output_type": "stream",
     "text": [
      "0.5\n",
      "0.2928932188134524 \n",
      "\n",
      "0.625\n",
      "0.20943058495790512 \n",
      "\n",
      "0.75\n",
      "0.1339745962155614 \n",
      "\n",
      "0.875\n",
      "0.06458565330651467 \n",
      "\n",
      "0.99\n",
      "0.005012562893380035 \n",
      "\n"
     ]
    }
   ],
   "source": [
    "p2=0.5\n",
    "x2=0\n",
    "for i in my_prob:\n",
    "    x2 = 0\n",
    "    p2 = i\n",
    "    my_loss_qsr = 1-(1-x2)*math.sqrt(p2)\n",
    "    print(p2)\n",
    "    print(my_loss_qsr, \"\\n\")"
   ]
  },
  {
   "cell_type": "code",
   "execution_count": 86,
   "metadata": {},
   "outputs": [
    {
     "name": "stdout",
     "output_type": "stream",
     "text": [
      "False\n",
      "False\n",
      "theyre at the office\n"
     ]
    }
   ],
   "source": [
    "bool1=False\n",
    "bool2=False\n",
    "if bool1 == bool2 is False:\n",
    "    print(bool1)\n",
    "    print(bool2)\n",
    "    print(\"theyre at the office\")"
   ]
  },
  {
   "cell_type": "code",
   "execution_count": null,
   "metadata": {},
   "outputs": [],
   "source": []
  },
  {
   "cell_type": "code",
   "execution_count": null,
   "metadata": {},
   "outputs": [],
   "source": []
  },
  {
   "cell_type": "code",
   "execution_count": null,
   "metadata": {},
   "outputs": [],
   "source": []
  }
 ],
 "metadata": {
  "kernelspec": {
   "display_name": "Python 3",
   "language": "python",
   "name": "python3"
  },
  "language_info": {
   "codemirror_mode": {
    "name": "ipython",
    "version": 3
   },
   "file_extension": ".py",
   "mimetype": "text/x-python",
   "name": "python",
   "nbconvert_exporter": "python",
   "pygments_lexer": "ipython3",
   "version": "3.7.1"
  }
 },
 "nbformat": 4,
 "nbformat_minor": 2
}
